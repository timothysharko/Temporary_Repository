{
 "cells": [
  {
   "cell_type": "markdown",
   "metadata": {},
   "source": [
    "### Financial Instrument K-Means Clustering"
   ]
  },
  {
   "cell_type": "code",
   "execution_count": null,
   "metadata": {},
   "outputs": [],
   "source": [
    "# Import common libraries\n",
    "import pandas as pd\n",
    "import numpy as np\n",
    "from matplotlib import pyplot as plt"
   ]
  },
  {
   "cell_type": "code",
   "execution_count": null,
   "metadata": {},
   "outputs": [],
   "source": [
    "# Import data\n",
    "df = pd.read_csv('QES_1.0_dprices.csv', parse_dates=['Date'],index_col='Date', sep=',')\n",
    "df.head()"
   ]
  },
  {
   "cell_type": "code",
   "execution_count": null,
   "metadata": {},
   "outputs": [],
   "source": [
    "# Define features and target\n",
    "features =[\n",
    "#'Date'\n",
    "#,'TB3',\n",
    " 'NQNL'\n",
    ",'NQAU'\n",
    ",'NQCA'\n",
    ",'NQCN'\n",
    ",'NQCZ'\n",
    ",'NQEG'\n",
    ",'NQFI'\n",
    ",'NQFR'\n",
    ",'NQDE'\n",
    ",'NQGR'\n",
    ",'NQHK'\n",
    ",'NQIN'\n",
    ",'NQID'\n",
    ",'NQIL'\n",
    ",'NQJP'\n",
    ",'NQKR'\n",
    ",'NQMY'\n",
    ",'NQPH'\n",
    ",'NQPL'\n",
    ",'NQPT'\n",
    ",'NQRU'\n",
    ",'NQSG'\n",
    ",'NQES'\n",
    ",'NQSE'\n",
    ",'NQCH'\n",
    ",'NQTW'\n",
    ",'NQTH'\n",
    ",'NQTR'\n",
    ",'NQGB'\n",
    "]\n",
    "\n",
    "target   = ['NQGI']"
   ]
  },
  {
   "cell_type": "code",
   "execution_count": null,
   "metadata": {},
   "outputs": [],
   "source": [
    "# Define prices dataframe\n",
    "\n",
    "prices_df = pd.DataFrame(df[features])\n",
    "prices_df.head()"
   ]
  },
  {
   "cell_type": "code",
   "execution_count": null,
   "metadata": {},
   "outputs": [],
   "source": [
    "# Compute returns and returns volatility\n",
    "\n",
    "from math import sqrt\n",
    "from scipy.cluster.vq import kmeans,vq\n",
    "from sklearn.cluster import KMeans\n",
    "\n",
    "returns = prices_df.pct_change().mean() * 252\n",
    "returns = pd.DataFrame(returns)\n",
    "returns.columns = ['Returns']\n",
    "returns['Volatility'] = prices_df.pct_change().std() * sqrt(252)\n",
    " "
   ]
  },
  {
   "cell_type": "code",
   "execution_count": null,
   "metadata": {},
   "outputs": [],
   "source": [
    "#format the data as a numpy array to feed into the K-Means algorithm\n",
    "data = np.asarray([np.asarray(returns['Returns']),np.asarray(returns['Volatility'])]).T\n",
    " \n",
    "X = data\n",
    "distorsions = []\n",
    "for k in range(2, 20):\n",
    "    k_means = KMeans(n_clusters=k)\n",
    "    k_means.fit(X)\n",
    "    distorsions.append(k_means.inertia_)"
   ]
  },
  {
   "cell_type": "markdown",
   "metadata": {},
   "source": [
    "The “Elbow Curve” highlights the relationship between how many clusters we choose, and the Sum of Squared Errors (SSE) resulting from using that number of clusters."
   ]
  },
  {
   "cell_type": "code",
   "execution_count": null,
   "metadata": {},
   "outputs": [],
   "source": [
    "# Plot elbow curve\n",
    "\n",
    "fig = plt.figure(figsize=(15, 5))\n",
    "plt.plot(range(2, 20), distorsions)\n",
    "plt.grid(True)\n",
    "plt.title('Elbow curve')"
   ]
  },
  {
   "cell_type": "code",
   "execution_count": null,
   "metadata": {},
   "outputs": [],
   "source": [
    "# Plot K-Means clustering\n",
    "\n",
    "from pylab import plot,show\n",
    "\n",
    "centroids,_ = kmeans(data,5)\n",
    "# assign each sample to a cluster\n",
    "idx,_ = vq(data,centroids)\n",
    " \n",
    "# some plotting using numpy's logical indexing\n",
    "plot(data[idx==0,0],data[idx==0,1],'ob',\n",
    "     data[idx==1,0],data[idx==1,1],'oy',\n",
    "     data[idx==2,0],data[idx==2,1],'or',\n",
    "     data[idx==3,0],data[idx==3,1],'og',\n",
    "     data[idx==4,0],data[idx==4,1],'om')\n",
    "plot(centroids[:,0],centroids[:,1],'sg',markersize=8)\n",
    "plt.title('K-Means of Global Indicies Before Outlier Removal')\n",
    "show()"
   ]
  },
  {
   "cell_type": "code",
   "execution_count": null,
   "metadata": {},
   "outputs": [],
   "source": [
    "#identify the outlier\n",
    "print(returns.idxmax())"
   ]
  },
  {
   "cell_type": "code",
   "execution_count": null,
   "metadata": {},
   "outputs": [],
   "source": [
    "#drop the relevant stock outliers from our data\n",
    "returns.drop('NQCZ',inplace=True)\n",
    "returns.drop('NQDE',inplace=True)"
   ]
  },
  {
   "cell_type": "code",
   "execution_count": null,
   "metadata": {},
   "outputs": [],
   "source": [
    "#recreate data to feed into the algorithm\n",
    "data = np.asarray([np.asarray(returns['Returns']),np.asarray(returns['Volatility'])]).T\n",
    "# computing K-Means with K = 5 (5 clusters)\n",
    "centroids,_ = kmeans(data,5)\n",
    "# assign each sample to a cluster\n",
    "idx,_ = vq(data,centroids) "
   ]
  },
  {
   "cell_type": "code",
   "execution_count": null,
   "metadata": {},
   "outputs": [],
   "source": [
    "# Plot updated K-Means using numpy's logical indexing\n",
    "plot(data[idx==0,0],data[idx==0,1],'ob',\n",
    "     data[idx==1,0],data[idx==1,1],'oy',\n",
    "     data[idx==2,0],data[idx==2,1],'or',\n",
    "     data[idx==3,0],data[idx==3,1],'og',\n",
    "     data[idx==4,0],data[idx==4,1],'om')\n",
    "plot(centroids[:,0],centroids[:,1],'sg',markersize=8)\n",
    "plt.title('K-Means of Global Indicies After Outlier Removal')\n",
    "show()"
   ]
  },
  {
   "cell_type": "code",
   "execution_count": null,
   "metadata": {},
   "outputs": [],
   "source": [
    "# Print \n",
    "details = [(name,cluster) for name, cluster in zip(returns.index,idx)]\n",
    " \n",
    "for detail in details:\n",
    "    print(detail)"
   ]
  }
 ],
 "metadata": {
  "kernelspec": {
   "display_name": "Python 3",
   "language": "python",
   "name": "python3"
  },
  "language_info": {
   "codemirror_mode": {
    "name": "ipython",
    "version": 3
   },
   "file_extension": ".py",
   "mimetype": "text/x-python",
   "name": "python",
   "nbconvert_exporter": "python",
   "pygments_lexer": "ipython3",
   "version": "3.6.5"
  }
 },
 "nbformat": 4,
 "nbformat_minor": 2
}
