{
 "cells": [
  {
   "cell_type": "markdown",
   "metadata": {},
   "source": [
    "### Financial Instrument Supervised Learning"
   ]
  },
  {
   "cell_type": "markdown",
   "metadata": {},
   "source": [
    "This program is based upon common data science programs, Kaggle customer churn modeling dataset and yellowbrick library sample programs."
   ]
  },
  {
   "cell_type": "code",
   "execution_count": null,
   "metadata": {},
   "outputs": [],
   "source": [
    "# Import Common Libraries\n",
    "import numpy as np\n",
    "import numpy as np\n",
    "import pandas as pd"
   ]
  },
  {
   "cell_type": "code",
   "execution_count": null,
   "metadata": {},
   "outputs": [],
   "source": [
    "# Import dataset with features and targets columns\n",
    "dataset = pd.read_csv('QES_1.0_dreturns.csv', parse_dates=['Date'],index_col='Date')\n",
    "dataset = dataset * 100\n",
    "dataset.index"
   ]
  },
  {
   "cell_type": "code",
   "execution_count": null,
   "metadata": {},
   "outputs": [],
   "source": [
    "dataset.head()"
   ]
  },
  {
   "cell_type": "code",
   "execution_count": null,
   "metadata": {},
   "outputs": [],
   "source": [
    "# Define features, target and target classes\n",
    "features =[\n",
    "#'Date'\n",
    "#,'TB3',\n",
    " 'NQNL'\n",
    ",'NQAU'\n",
    ",'NQCA'\n",
    ",'NQCN'\n",
    ",'NQCZ'\n",
    ",'NQEG'\n",
    ",'NQFI'\n",
    ",'NQFR'\n",
    ",'NQDE'\n",
    ",'NQGR'\n",
    ",'NQHK'\n",
    ",'NQIN'\n",
    ",'NQID'\n",
    ",'NQIL'\n",
    ",'NQJP'\n",
    ",'NQKR'\n",
    ",'NQMY'\n",
    ",'NQPH'\n",
    ",'NQPL'\n",
    ",'NQPT'\n",
    ",'NQRU'\n",
    ",'NQSG'\n",
    ",'NQES'\n",
    ",'NQSE'\n",
    ",'NQCH'\n",
    ",'NQTW'\n",
    ",'NQTH'\n",
    ",'NQTR'\n",
    ",'NQGB'\n",
    "]\n",
    "\n",
    "target   = ['NQGI']\n",
    "\n",
    "#classes = ['no', 'yes']"
   ]
  },
  {
   "cell_type": "code",
   "execution_count": null,
   "metadata": {},
   "outputs": [],
   "source": [
    "# Transform features and target to numpy matrix for yellowbrick visualization\n",
    "X = dataset[features].as_matrix()\n",
    "y = dataset[target].as_matrix()"
   ]
  },
  {
   "cell_type": "code",
   "execution_count": null,
   "metadata": {},
   "outputs": [],
   "source": [
    "# 1 dimension visualizer with Shapiro ranking\n",
    "from yellowbrick.features import Rank1D\n",
    "\n",
    "visualizer = Rank1D(features=features, algorithm='shapiro')\n",
    "visualizer.fit(X, y)                # Fit the data to the visualizer\n",
    "visualizer.transform(X)             # Transform the data\n",
    "visualizer.poof(outpath='Rank1d.pdf')                   # Draw/show/poof the data"
   ]
  },
  {
   "cell_type": "code",
   "execution_count": null,
   "metadata": {},
   "outputs": [],
   "source": [
    "# 2 dimension visualizer with covariance ranking\n",
    "from yellowbrick.features import Rank2D\n",
    "\n",
    "visualizer = Rank2D(features=features, algorithm='covariance')\n",
    "visualizer.fit(X, y)                # Fit the data to the visualizer\n",
    "visualizer.transform(X)             # Transform the data\n",
    "visualizer.poof(outpath='Rank2d.pdf')                   # Draw/show/poof the data"
   ]
  },
  {
   "cell_type": "code",
   "execution_count": null,
   "metadata": {},
   "outputs": [],
   "source": [
    "# Feature Importances with Lasso\n",
    "from sklearn.linear_model import Lasso\n",
    "import matplotlib.pyplot as plt\n",
    "from yellowbrick.features.importances import FeatureImportances\n",
    "\n",
    "# Create a new figure\n",
    "fig = plt.figure()\n",
    "ax = fig.add_subplot()\n",
    "\n",
    "# Title case the feature for better display and create the visualizer\n",
    "labels = list(map(lambda s: s.title(), features))\n",
    "viz = FeatureImportances(Lasso(), ax=ax, labels=labels, relative=False)\n",
    "\n",
    "# Fit and show the feature importances\n",
    "viz.fit(X, y)\n",
    "viz.poof(outpath='Lasso.pdf')"
   ]
  },
  {
   "cell_type": "code",
   "execution_count": null,
   "metadata": {},
   "outputs": [],
   "source": [
    "import matplotlib.pyplot as plt \n",
    "\n",
    "dataset.plot(y='NQGI')\n",
    "plt.title('NQGI Returns')\n",
    "plt.xlabel('Date')\n",
    "plt.ylabel('Returns in Percent')"
   ]
  },
  {
   "cell_type": "code",
   "execution_count": null,
   "metadata": {},
   "outputs": [],
   "source": [
    "import matplotlib.pyplot as plt \n",
    "import seaborn as sns; sns.set()\n",
    "\n",
    "plt.scatter(X[:, 1], X[:, 7])\n",
    "plt.axis('equal')\n",
    "plt.title('Global Returns by Sweden')\n",
    "plt.xlabel('NQSE')\n",
    "plt.ylabel('NQGI')"
   ]
  },
  {
   "cell_type": "code",
   "execution_count": null,
   "metadata": {},
   "outputs": [],
   "source": [
    "# Joint Plot Visualizer with single feature and target \n",
    "from yellowbrick.features import JointPlotVisualizer\n",
    "\n",
    "# Define jpv_feature (x-axis) and target (y-axis)\n",
    "feature_jpv  = ['NQRU']\n",
    "target_jpv = ['NQGI']\n",
    "\n",
    "# Transform feature and target to numpy matrix for yellowbrick visualization\n",
    "X_jpv = dataset[feature_jpv].as_matrix()\n",
    "y_jpv = dataset[target_jpv].as_matrix()\n",
    "\n",
    "visualizer = JointPlotVisualizer(feature=feature_jpv, target=target_jpv, joint_plot = 'hex')\n",
    "visualizer.fit(X_jpv, y_jpv)\n",
    "visualizer.poof(outpath='JPV.pdf')"
   ]
  },
  {
   "cell_type": "code",
   "execution_count": null,
   "metadata": {},
   "outputs": [],
   "source": []
  }
 ],
 "metadata": {
  "kernelspec": {
   "display_name": "Python 3",
   "language": "python",
   "name": "python3"
  },
  "language_info": {
   "codemirror_mode": {
    "name": "ipython",
    "version": 3
   },
   "file_extension": ".py",
   "mimetype": "text/x-python",
   "name": "python",
   "nbconvert_exporter": "python",
   "pygments_lexer": "ipython3",
   "version": "3.6.5"
  }
 },
 "nbformat": 4,
 "nbformat_minor": 2
}
